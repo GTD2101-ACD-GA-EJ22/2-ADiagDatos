{
 "cells": [
  {
   "cell_type": "markdown",
   "metadata": {},
   "source": [
    "## Reporte de Calidad de Datos\n",
    "\n",
    "Después de trabajar con múltiples Datasets es conveniente hacer algún reporte de la calidad de nuestros datos."
   ]
  },
  {
   "cell_type": "code",
   "execution_count": 2,
   "metadata": {},
   "outputs": [
    {
     "data": {
      "text/html": [
       "<div>\n",
       "<style scoped>\n",
       "    .dataframe tbody tr th:only-of-type {\n",
       "        vertical-align: middle;\n",
       "    }\n",
       "\n",
       "    .dataframe tbody tr th {\n",
       "        vertical-align: top;\n",
       "    }\n",
       "\n",
       "    .dataframe thead th {\n",
       "        text-align: right;\n",
       "    }\n",
       "</style>\n",
       "<table border=\"1\" class=\"dataframe\">\n",
       "  <thead>\n",
       "    <tr style=\"text-align: right;\">\n",
       "      <th></th>\n",
       "      <th>0</th>\n",
       "      <th>1</th>\n",
       "      <th>2</th>\n",
       "      <th>3</th>\n",
       "      <th>4</th>\n",
       "      <th>5</th>\n",
       "      <th>6</th>\n",
       "      <th>7</th>\n",
       "      <th>8</th>\n",
       "      <th>9</th>\n",
       "      <th>...</th>\n",
       "      <th>1990</th>\n",
       "      <th>1991</th>\n",
       "      <th>1992</th>\n",
       "      <th>1993</th>\n",
       "      <th>1994</th>\n",
       "      <th>1995</th>\n",
       "      <th>1996</th>\n",
       "      <th>1997</th>\n",
       "      <th>1998</th>\n",
       "      <th>1999</th>\n",
       "    </tr>\n",
       "  </thead>\n",
       "  <tbody>\n",
       "    <tr>\n",
       "      <th>fname</th>\n",
       "      <td>Dolan</td>\n",
       "      <td>NaN</td>\n",
       "      <td>NaN</td>\n",
       "      <td>NaN</td>\n",
       "      <td>NaN</td>\n",
       "      <td>NaN</td>\n",
       "      <td>NaN</td>\n",
       "      <td>NaN</td>\n",
       "      <td>NaN</td>\n",
       "      <td>NaN</td>\n",
       "      <td>...</td>\n",
       "      <td>NaN</td>\n",
       "      <td>NaN</td>\n",
       "      <td>NaN</td>\n",
       "      <td>NaN</td>\n",
       "      <td>NaN</td>\n",
       "      <td>NaN</td>\n",
       "      <td>NaN</td>\n",
       "      <td>NaN</td>\n",
       "      <td>NaN</td>\n",
       "      <td>NaN</td>\n",
       "    </tr>\n",
       "    <tr>\n",
       "      <th>lname</th>\n",
       "      <td>Conley</td>\n",
       "      <td>Harvey</td>\n",
       "      <td>Oconnor</td>\n",
       "      <td>Randall</td>\n",
       "      <td>NaN</td>\n",
       "      <td>NaN</td>\n",
       "      <td>NaN</td>\n",
       "      <td>NaN</td>\n",
       "      <td>NaN</td>\n",
       "      <td>NaN</td>\n",
       "      <td>...</td>\n",
       "      <td>NaN</td>\n",
       "      <td>NaN</td>\n",
       "      <td>NaN</td>\n",
       "      <td>NaN</td>\n",
       "      <td>NaN</td>\n",
       "      <td>NaN</td>\n",
       "      <td>NaN</td>\n",
       "      <td>NaN</td>\n",
       "      <td>NaN</td>\n",
       "      <td>NaN</td>\n",
       "    </tr>\n",
       "    <tr>\n",
       "      <th>gender</th>\n",
       "      <td>female</td>\n",
       "      <td>male</td>\n",
       "      <td>NaN</td>\n",
       "      <td>NaN</td>\n",
       "      <td>NaN</td>\n",
       "      <td>NaN</td>\n",
       "      <td>NaN</td>\n",
       "      <td>NaN</td>\n",
       "      <td>NaN</td>\n",
       "      <td>NaN</td>\n",
       "      <td>...</td>\n",
       "      <td>NaN</td>\n",
       "      <td>NaN</td>\n",
       "      <td>NaN</td>\n",
       "      <td>NaN</td>\n",
       "      <td>NaN</td>\n",
       "      <td>NaN</td>\n",
       "      <td>NaN</td>\n",
       "      <td>NaN</td>\n",
       "      <td>NaN</td>\n",
       "      <td>NaN</td>\n",
       "    </tr>\n",
       "    <tr>\n",
       "      <th>age</th>\n",
       "      <td>17.0</td>\n",
       "      <td>NaN</td>\n",
       "      <td>NaN</td>\n",
       "      <td>NaN</td>\n",
       "      <td>NaN</td>\n",
       "      <td>NaN</td>\n",
       "      <td>NaN</td>\n",
       "      <td>NaN</td>\n",
       "      <td>NaN</td>\n",
       "      <td>NaN</td>\n",
       "      <td>...</td>\n",
       "      <td>NaN</td>\n",
       "      <td>NaN</td>\n",
       "      <td>NaN</td>\n",
       "      <td>NaN</td>\n",
       "      <td>NaN</td>\n",
       "      <td>NaN</td>\n",
       "      <td>NaN</td>\n",
       "      <td>NaN</td>\n",
       "      <td>NaN</td>\n",
       "      <td>NaN</td>\n",
       "    </tr>\n",
       "    <tr>\n",
       "      <th>exercise</th>\n",
       "      <td>4.0</td>\n",
       "      <td>NaN</td>\n",
       "      <td>NaN</td>\n",
       "      <td>NaN</td>\n",
       "      <td>NaN</td>\n",
       "      <td>NaN</td>\n",
       "      <td>NaN</td>\n",
       "      <td>NaN</td>\n",
       "      <td>NaN</td>\n",
       "      <td>NaN</td>\n",
       "      <td>...</td>\n",
       "      <td>NaN</td>\n",
       "      <td>NaN</td>\n",
       "      <td>NaN</td>\n",
       "      <td>NaN</td>\n",
       "      <td>NaN</td>\n",
       "      <td>NaN</td>\n",
       "      <td>NaN</td>\n",
       "      <td>NaN</td>\n",
       "      <td>NaN</td>\n",
       "      <td>NaN</td>\n",
       "    </tr>\n",
       "    <tr>\n",
       "      <th>hours</th>\n",
       "      <td>11.0</td>\n",
       "      <td>NaN</td>\n",
       "      <td>NaN</td>\n",
       "      <td>NaN</td>\n",
       "      <td>NaN</td>\n",
       "      <td>NaN</td>\n",
       "      <td>NaN</td>\n",
       "      <td>NaN</td>\n",
       "      <td>NaN</td>\n",
       "      <td>NaN</td>\n",
       "      <td>...</td>\n",
       "      <td>NaN</td>\n",
       "      <td>NaN</td>\n",
       "      <td>NaN</td>\n",
       "      <td>NaN</td>\n",
       "      <td>NaN</td>\n",
       "      <td>NaN</td>\n",
       "      <td>NaN</td>\n",
       "      <td>NaN</td>\n",
       "      <td>NaN</td>\n",
       "      <td>NaN</td>\n",
       "    </tr>\n",
       "    <tr>\n",
       "      <th>grade</th>\n",
       "      <td>100.0</td>\n",
       "      <td>NaN</td>\n",
       "      <td>NaN</td>\n",
       "      <td>NaN</td>\n",
       "      <td>NaN</td>\n",
       "      <td>NaN</td>\n",
       "      <td>NaN</td>\n",
       "      <td>NaN</td>\n",
       "      <td>NaN</td>\n",
       "      <td>NaN</td>\n",
       "      <td>...</td>\n",
       "      <td>NaN</td>\n",
       "      <td>NaN</td>\n",
       "      <td>NaN</td>\n",
       "      <td>NaN</td>\n",
       "      <td>NaN</td>\n",
       "      <td>NaN</td>\n",
       "      <td>NaN</td>\n",
       "      <td>NaN</td>\n",
       "      <td>NaN</td>\n",
       "      <td>NaN</td>\n",
       "    </tr>\n",
       "    <tr>\n",
       "      <th>address</th>\n",
       "      <td>1 Chapel Ave., Cheshire, CT 06410</td>\n",
       "      <td>1 Cottage Street, Rockville, MD 20850</td>\n",
       "      <td>1 Fairview Rd., Ann Arbor, MI 48103</td>\n",
       "      <td>1 Grand Street, Fairburn, GA 30213</td>\n",
       "      <td>1 Grandrose Street, Lakewood, NJ 08701</td>\n",
       "      <td>1 Indian Summer Street, Manchester Township, N...</td>\n",
       "      <td>1 Joy Ridge Dr., Bonita Springs, FL 34135</td>\n",
       "      <td>1 Kirkland Ave., Whitestone, NY 11357</td>\n",
       "      <td>1 Mayfair St., Indiana, PA 15701</td>\n",
       "      <td>1 Nicolls St., Banning, CA 92220</td>\n",
       "      <td>...</td>\n",
       "      <td>9961 State Ave., Union City, NJ 07087</td>\n",
       "      <td>9973 Miles Court, Worcester, MA 01604</td>\n",
       "      <td>9975 Lookout Court, Buffalo, NY 14215</td>\n",
       "      <td>998 Riverside St., Galloway, OH 43119</td>\n",
       "      <td>999 Nicolls Avenue, Oviedo, FL 32765</td>\n",
       "      <td>999 Sleepy Hollow Lane, Detroit, MI 48205</td>\n",
       "      <td>9991 Parker Court, Lansdowne, PA 19050</td>\n",
       "      <td>9995 Glenholme St., Upper Marlboro, MD 20772</td>\n",
       "      <td>9997 Nicolls St., Bellmore, NY 11710</td>\n",
       "      <td>9999 Longbranch St., Wayne, NJ 07470</td>\n",
       "    </tr>\n",
       "  </tbody>\n",
       "</table>\n",
       "<p>8 rows × 2000 columns</p>\n",
       "</div>"
      ],
      "text/plain": [
       "                                       0     \\\n",
       "fname                                 Dolan   \n",
       "lname                                Conley   \n",
       "gender                               female   \n",
       "age                                    17.0   \n",
       "exercise                                4.0   \n",
       "hours                                  11.0   \n",
       "grade                                 100.0   \n",
       "address   1 Chapel Ave., Cheshire, CT 06410   \n",
       "\n",
       "                                           1     \\\n",
       "fname                                       NaN   \n",
       "lname                                    Harvey   \n",
       "gender                                     male   \n",
       "age                                         NaN   \n",
       "exercise                                    NaN   \n",
       "hours                                       NaN   \n",
       "grade                                       NaN   \n",
       "address   1 Cottage Street, Rockville, MD 20850   \n",
       "\n",
       "                                         2     \\\n",
       "fname                                     NaN   \n",
       "lname                                 Oconnor   \n",
       "gender                                    NaN   \n",
       "age                                       NaN   \n",
       "exercise                                  NaN   \n",
       "hours                                     NaN   \n",
       "grade                                     NaN   \n",
       "address   1 Fairview Rd., Ann Arbor, MI 48103   \n",
       "\n",
       "                                        3     \\\n",
       "fname                                    NaN   \n",
       "lname                                Randall   \n",
       "gender                                   NaN   \n",
       "age                                      NaN   \n",
       "exercise                                 NaN   \n",
       "hours                                    NaN   \n",
       "grade                                    NaN   \n",
       "address   1 Grand Street, Fairburn, GA 30213   \n",
       "\n",
       "                                            4     \\\n",
       "fname                                        NaN   \n",
       "lname                                        NaN   \n",
       "gender                                       NaN   \n",
       "age                                          NaN   \n",
       "exercise                                     NaN   \n",
       "hours                                        NaN   \n",
       "grade                                        NaN   \n",
       "address   1 Grandrose Street, Lakewood, NJ 08701   \n",
       "\n",
       "                                                       5     \\\n",
       "fname                                                   NaN   \n",
       "lname                                                   NaN   \n",
       "gender                                                  NaN   \n",
       "age                                                     NaN   \n",
       "exercise                                                NaN   \n",
       "hours                                                   NaN   \n",
       "grade                                                   NaN   \n",
       "address   1 Indian Summer Street, Manchester Township, N...   \n",
       "\n",
       "                                               6     \\\n",
       "fname                                           NaN   \n",
       "lname                                           NaN   \n",
       "gender                                          NaN   \n",
       "age                                             NaN   \n",
       "exercise                                        NaN   \n",
       "hours                                           NaN   \n",
       "grade                                           NaN   \n",
       "address   1 Joy Ridge Dr., Bonita Springs, FL 34135   \n",
       "\n",
       "                                           7     \\\n",
       "fname                                       NaN   \n",
       "lname                                       NaN   \n",
       "gender                                      NaN   \n",
       "age                                         NaN   \n",
       "exercise                                    NaN   \n",
       "hours                                       NaN   \n",
       "grade                                       NaN   \n",
       "address   1 Kirkland Ave., Whitestone, NY 11357   \n",
       "\n",
       "                                      8                                 9     \\\n",
       "fname                                  NaN                               NaN   \n",
       "lname                                  NaN                               NaN   \n",
       "gender                                 NaN                               NaN   \n",
       "age                                    NaN                               NaN   \n",
       "exercise                               NaN                               NaN   \n",
       "hours                                  NaN                               NaN   \n",
       "grade                                  NaN                               NaN   \n",
       "address   1 Mayfair St., Indiana, PA 15701  1 Nicolls St., Banning, CA 92220   \n",
       "\n",
       "          ...                                   1990  \\\n",
       "fname     ...                                    NaN   \n",
       "lname     ...                                    NaN   \n",
       "gender    ...                                    NaN   \n",
       "age       ...                                    NaN   \n",
       "exercise  ...                                    NaN   \n",
       "hours     ...                                    NaN   \n",
       "grade     ...                                    NaN   \n",
       "address   ...  9961 State Ave., Union City, NJ 07087   \n",
       "\n",
       "                                           1991  \\\n",
       "fname                                       NaN   \n",
       "lname                                       NaN   \n",
       "gender                                      NaN   \n",
       "age                                         NaN   \n",
       "exercise                                    NaN   \n",
       "hours                                       NaN   \n",
       "grade                                       NaN   \n",
       "address   9973 Miles Court, Worcester, MA 01604   \n",
       "\n",
       "                                           1992  \\\n",
       "fname                                       NaN   \n",
       "lname                                       NaN   \n",
       "gender                                      NaN   \n",
       "age                                         NaN   \n",
       "exercise                                    NaN   \n",
       "hours                                       NaN   \n",
       "grade                                       NaN   \n",
       "address   9975 Lookout Court, Buffalo, NY 14215   \n",
       "\n",
       "                                           1993  \\\n",
       "fname                                       NaN   \n",
       "lname                                       NaN   \n",
       "gender                                      NaN   \n",
       "age                                         NaN   \n",
       "exercise                                    NaN   \n",
       "hours                                       NaN   \n",
       "grade                                       NaN   \n",
       "address   998 Riverside St., Galloway, OH 43119   \n",
       "\n",
       "                                          1994  \\\n",
       "fname                                      NaN   \n",
       "lname                                      NaN   \n",
       "gender                                     NaN   \n",
       "age                                        NaN   \n",
       "exercise                                   NaN   \n",
       "hours                                      NaN   \n",
       "grade                                      NaN   \n",
       "address   999 Nicolls Avenue, Oviedo, FL 32765   \n",
       "\n",
       "                                               1995  \\\n",
       "fname                                           NaN   \n",
       "lname                                           NaN   \n",
       "gender                                          NaN   \n",
       "age                                             NaN   \n",
       "exercise                                        NaN   \n",
       "hours                                           NaN   \n",
       "grade                                           NaN   \n",
       "address   999 Sleepy Hollow Lane, Detroit, MI 48205   \n",
       "\n",
       "                                            1996  \\\n",
       "fname                                        NaN   \n",
       "lname                                        NaN   \n",
       "gender                                       NaN   \n",
       "age                                          NaN   \n",
       "exercise                                     NaN   \n",
       "hours                                        NaN   \n",
       "grade                                        NaN   \n",
       "address   9991 Parker Court, Lansdowne, PA 19050   \n",
       "\n",
       "                                                  1997  \\\n",
       "fname                                              NaN   \n",
       "lname                                              NaN   \n",
       "gender                                             NaN   \n",
       "age                                                NaN   \n",
       "exercise                                           NaN   \n",
       "hours                                              NaN   \n",
       "grade                                              NaN   \n",
       "address   9995 Glenholme St., Upper Marlboro, MD 20772   \n",
       "\n",
       "                                          1998  \\\n",
       "fname                                      NaN   \n",
       "lname                                      NaN   \n",
       "gender                                     NaN   \n",
       "age                                        NaN   \n",
       "exercise                                   NaN   \n",
       "hours                                      NaN   \n",
       "grade                                      NaN   \n",
       "address   9997 Nicolls St., Bellmore, NY 11710   \n",
       "\n",
       "                                          1999  \n",
       "fname                                      NaN  \n",
       "lname                                      NaN  \n",
       "gender                                     NaN  \n",
       "age                                        NaN  \n",
       "exercise                                   NaN  \n",
       "hours                                      NaN  \n",
       "grade                                      NaN  \n",
       "address   9999 Longbranch St., Wayne, NJ 07470  \n",
       "\n",
       "[8 rows x 2000 columns]"
      ]
     },
     "execution_count": 2,
     "metadata": {},
     "output_type": "execute_result"
    }
   ],
   "source": [
    "import pandas as pd\n",
    "Location = \"datasets/gradedata.csv\"\n",
    "df = pd.read_csv(Location)\n",
    "df.head()\n",
    "\n",
    "df.mode().transpose()"
   ]
  },
  {
   "cell_type": "code",
   "execution_count": 3,
   "metadata": {},
   "outputs": [
    {
     "data": {
      "text/html": [
       "<div>\n",
       "<style scoped>\n",
       "    .dataframe tbody tr th:only-of-type {\n",
       "        vertical-align: middle;\n",
       "    }\n",
       "\n",
       "    .dataframe tbody tr th {\n",
       "        vertical-align: top;\n",
       "    }\n",
       "\n",
       "    .dataframe thead th {\n",
       "        text-align: right;\n",
       "    }\n",
       "</style>\n",
       "<table border=\"1\" class=\"dataframe\">\n",
       "  <thead>\n",
       "    <tr style=\"text-align: right;\">\n",
       "      <th></th>\n",
       "      <th>Data Type</th>\n",
       "    </tr>\n",
       "  </thead>\n",
       "  <tbody>\n",
       "    <tr>\n",
       "      <th>fname</th>\n",
       "      <td>object</td>\n",
       "    </tr>\n",
       "    <tr>\n",
       "      <th>lname</th>\n",
       "      <td>object</td>\n",
       "    </tr>\n",
       "    <tr>\n",
       "      <th>gender</th>\n",
       "      <td>object</td>\n",
       "    </tr>\n",
       "    <tr>\n",
       "      <th>age</th>\n",
       "      <td>int64</td>\n",
       "    </tr>\n",
       "    <tr>\n",
       "      <th>exercise</th>\n",
       "      <td>int64</td>\n",
       "    </tr>\n",
       "    <tr>\n",
       "      <th>hours</th>\n",
       "      <td>int64</td>\n",
       "    </tr>\n",
       "    <tr>\n",
       "      <th>grade</th>\n",
       "      <td>float64</td>\n",
       "    </tr>\n",
       "    <tr>\n",
       "      <th>address</th>\n",
       "      <td>object</td>\n",
       "    </tr>\n",
       "  </tbody>\n",
       "</table>\n",
       "</div>"
      ],
      "text/plain": [
       "         Data Type\n",
       "fname       object\n",
       "lname       object\n",
       "gender      object\n",
       "age          int64\n",
       "exercise     int64\n",
       "hours        int64\n",
       "grade      float64\n",
       "address     object"
      ]
     },
     "execution_count": 3,
     "metadata": {},
     "output_type": "execute_result"
    }
   ],
   "source": [
    "data_types = pd.DataFrame(df.dtypes, columns=['Data Type'])\n",
    "data_types"
   ]
  },
  {
   "cell_type": "markdown",
   "metadata": {},
   "source": [
    "Contando el número de valores extraviados por columna:"
   ]
  },
  {
   "cell_type": "code",
   "execution_count": 4,
   "metadata": {},
   "outputs": [
    {
     "data": {
      "text/html": [
       "<div>\n",
       "<style scoped>\n",
       "    .dataframe tbody tr th:only-of-type {\n",
       "        vertical-align: middle;\n",
       "    }\n",
       "\n",
       "    .dataframe tbody tr th {\n",
       "        vertical-align: top;\n",
       "    }\n",
       "\n",
       "    .dataframe thead th {\n",
       "        text-align: right;\n",
       "    }\n",
       "</style>\n",
       "<table border=\"1\" class=\"dataframe\">\n",
       "  <thead>\n",
       "    <tr style=\"text-align: right;\">\n",
       "      <th></th>\n",
       "      <th>Missing Values</th>\n",
       "    </tr>\n",
       "  </thead>\n",
       "  <tbody>\n",
       "    <tr>\n",
       "      <th>fname</th>\n",
       "      <td>0</td>\n",
       "    </tr>\n",
       "    <tr>\n",
       "      <th>lname</th>\n",
       "      <td>0</td>\n",
       "    </tr>\n",
       "    <tr>\n",
       "      <th>gender</th>\n",
       "      <td>0</td>\n",
       "    </tr>\n",
       "    <tr>\n",
       "      <th>age</th>\n",
       "      <td>0</td>\n",
       "    </tr>\n",
       "    <tr>\n",
       "      <th>exercise</th>\n",
       "      <td>0</td>\n",
       "    </tr>\n",
       "    <tr>\n",
       "      <th>hours</th>\n",
       "      <td>0</td>\n",
       "    </tr>\n",
       "    <tr>\n",
       "      <th>grade</th>\n",
       "      <td>0</td>\n",
       "    </tr>\n",
       "    <tr>\n",
       "      <th>address</th>\n",
       "      <td>0</td>\n",
       "    </tr>\n",
       "  </tbody>\n",
       "</table>\n",
       "</div>"
      ],
      "text/plain": [
       "          Missing Values\n",
       "fname                  0\n",
       "lname                  0\n",
       "gender                 0\n",
       "age                    0\n",
       "exercise               0\n",
       "hours                  0\n",
       "grade                  0\n",
       "address                0"
      ]
     },
     "execution_count": 4,
     "metadata": {},
     "output_type": "execute_result"
    }
   ],
   "source": [
    "missing_data_counts = pd.DataFrame(df.isnull().sum(), columns=['Missing Values'])\n",
    "missing_data_counts"
   ]
  },
  {
   "cell_type": "code",
   "execution_count": 5,
   "metadata": {},
   "outputs": [
    {
     "data": {
      "text/plain": [
       "fname       0\n",
       "lname       0\n",
       "gender      0\n",
       "age         0\n",
       "exercise    0\n",
       "hours       0\n",
       "grade       0\n",
       "address     0\n",
       "dtype: int64"
      ]
     },
     "execution_count": 5,
     "metadata": {},
     "output_type": "execute_result"
    }
   ],
   "source": [
    "df.isnull().sum()"
   ]
  },
  {
   "cell_type": "markdown",
   "metadata": {},
   "source": [
    "Contando el total de Observaciones presentes por columna:"
   ]
  },
  {
   "cell_type": "code",
   "execution_count": 6,
   "metadata": {},
   "outputs": [
    {
     "data": {
      "text/html": [
       "<div>\n",
       "<style scoped>\n",
       "    .dataframe tbody tr th:only-of-type {\n",
       "        vertical-align: middle;\n",
       "    }\n",
       "\n",
       "    .dataframe tbody tr th {\n",
       "        vertical-align: top;\n",
       "    }\n",
       "\n",
       "    .dataframe thead th {\n",
       "        text-align: right;\n",
       "    }\n",
       "</style>\n",
       "<table border=\"1\" class=\"dataframe\">\n",
       "  <thead>\n",
       "    <tr style=\"text-align: right;\">\n",
       "      <th></th>\n",
       "      <th>Present Values</th>\n",
       "    </tr>\n",
       "  </thead>\n",
       "  <tbody>\n",
       "    <tr>\n",
       "      <th>fname</th>\n",
       "      <td>2000</td>\n",
       "    </tr>\n",
       "    <tr>\n",
       "      <th>lname</th>\n",
       "      <td>2000</td>\n",
       "    </tr>\n",
       "    <tr>\n",
       "      <th>gender</th>\n",
       "      <td>2000</td>\n",
       "    </tr>\n",
       "    <tr>\n",
       "      <th>age</th>\n",
       "      <td>2000</td>\n",
       "    </tr>\n",
       "    <tr>\n",
       "      <th>exercise</th>\n",
       "      <td>2000</td>\n",
       "    </tr>\n",
       "    <tr>\n",
       "      <th>hours</th>\n",
       "      <td>2000</td>\n",
       "    </tr>\n",
       "    <tr>\n",
       "      <th>grade</th>\n",
       "      <td>2000</td>\n",
       "    </tr>\n",
       "    <tr>\n",
       "      <th>address</th>\n",
       "      <td>2000</td>\n",
       "    </tr>\n",
       "  </tbody>\n",
       "</table>\n",
       "</div>"
      ],
      "text/plain": [
       "          Present Values\n",
       "fname               2000\n",
       "lname               2000\n",
       "gender              2000\n",
       "age                 2000\n",
       "exercise            2000\n",
       "hours               2000\n",
       "grade               2000\n",
       "address             2000"
      ]
     },
     "execution_count": 6,
     "metadata": {},
     "output_type": "execute_result"
    }
   ],
   "source": [
    "present_data_counts = pd.DataFrame(df.count(), columns=['Present Values'])\n",
    "present_data_counts"
   ]
  },
  {
   "cell_type": "code",
   "execution_count": 7,
   "metadata": {},
   "outputs": [
    {
     "data": {
      "text/plain": [
       "2000"
      ]
     },
     "execution_count": 7,
     "metadata": {},
     "output_type": "execute_result"
    }
   ],
   "source": [
    "df['lname'].count()\n"
   ]
  },
  {
   "cell_type": "markdown",
   "metadata": {},
   "source": [
    "Número de observaciones únicas por Columna:"
   ]
  },
  {
   "cell_type": "code",
   "execution_count": 8,
   "metadata": {},
   "outputs": [
    {
     "data": {
      "text/html": [
       "<div>\n",
       "<style scoped>\n",
       "    .dataframe tbody tr th:only-of-type {\n",
       "        vertical-align: middle;\n",
       "    }\n",
       "\n",
       "    .dataframe tbody tr th {\n",
       "        vertical-align: top;\n",
       "    }\n",
       "\n",
       "    .dataframe thead th {\n",
       "        text-align: right;\n",
       "    }\n",
       "</style>\n",
       "<table border=\"1\" class=\"dataframe\">\n",
       "  <thead>\n",
       "    <tr style=\"text-align: right;\">\n",
       "      <th></th>\n",
       "      <th>Unique Values</th>\n",
       "    </tr>\n",
       "  </thead>\n",
       "  <tbody>\n",
       "    <tr>\n",
       "      <th>fname</th>\n",
       "      <td>958</td>\n",
       "    </tr>\n",
       "    <tr>\n",
       "      <th>lname</th>\n",
       "      <td>877</td>\n",
       "    </tr>\n",
       "    <tr>\n",
       "      <th>gender</th>\n",
       "      <td>2</td>\n",
       "    </tr>\n",
       "    <tr>\n",
       "      <th>age</th>\n",
       "      <td>6</td>\n",
       "    </tr>\n",
       "    <tr>\n",
       "      <th>exercise</th>\n",
       "      <td>6</td>\n",
       "    </tr>\n",
       "    <tr>\n",
       "      <th>hours</th>\n",
       "      <td>21</td>\n",
       "    </tr>\n",
       "    <tr>\n",
       "      <th>grade</th>\n",
       "      <td>385</td>\n",
       "    </tr>\n",
       "    <tr>\n",
       "      <th>address</th>\n",
       "      <td>2000</td>\n",
       "    </tr>\n",
       "  </tbody>\n",
       "</table>\n",
       "</div>"
      ],
      "text/plain": [
       "          Unique Values\n",
       "fname               958\n",
       "lname               877\n",
       "gender                2\n",
       "age                   6\n",
       "exercise              6\n",
       "hours                21\n",
       "grade               385\n",
       "address            2000"
      ]
     },
     "execution_count": 8,
     "metadata": {},
     "output_type": "execute_result"
    }
   ],
   "source": [
    "unique_value_counts = pd.DataFrame(columns=['Unique Values'])\n",
    "\n",
    "for v in list(df.columns.values):\n",
    "    unique_value_counts.loc[v] = [df[v].nunique()]\n",
    "unique_value_counts"
   ]
  },
  {
   "cell_type": "markdown",
   "metadata": {},
   "source": [
    "Valor mínimo en cada columna:"
   ]
  },
  {
   "cell_type": "code",
   "execution_count": 9,
   "metadata": {},
   "outputs": [
    {
     "data": {
      "text/html": [
       "<div>\n",
       "<style scoped>\n",
       "    .dataframe tbody tr th:only-of-type {\n",
       "        vertical-align: middle;\n",
       "    }\n",
       "\n",
       "    .dataframe tbody tr th {\n",
       "        vertical-align: top;\n",
       "    }\n",
       "\n",
       "    .dataframe thead th {\n",
       "        text-align: right;\n",
       "    }\n",
       "</style>\n",
       "<table border=\"1\" class=\"dataframe\">\n",
       "  <thead>\n",
       "    <tr style=\"text-align: right;\">\n",
       "      <th></th>\n",
       "      <th>Minimum Values</th>\n",
       "    </tr>\n",
       "  </thead>\n",
       "  <tbody>\n",
       "    <tr>\n",
       "      <th>fname</th>\n",
       "      <td>Aaron</td>\n",
       "    </tr>\n",
       "    <tr>\n",
       "      <th>lname</th>\n",
       "      <td>Acevedo</td>\n",
       "    </tr>\n",
       "    <tr>\n",
       "      <th>gender</th>\n",
       "      <td>female</td>\n",
       "    </tr>\n",
       "    <tr>\n",
       "      <th>age</th>\n",
       "      <td>14</td>\n",
       "    </tr>\n",
       "    <tr>\n",
       "      <th>exercise</th>\n",
       "      <td>0</td>\n",
       "    </tr>\n",
       "    <tr>\n",
       "      <th>hours</th>\n",
       "      <td>0</td>\n",
       "    </tr>\n",
       "    <tr>\n",
       "      <th>grade</th>\n",
       "      <td>32.0</td>\n",
       "    </tr>\n",
       "    <tr>\n",
       "      <th>address</th>\n",
       "      <td>1 Chapel Ave., Cheshire, CT 06410</td>\n",
       "    </tr>\n",
       "  </tbody>\n",
       "</table>\n",
       "</div>"
      ],
      "text/plain": [
       "                             Minimum Values\n",
       "fname                                 Aaron\n",
       "lname                               Acevedo\n",
       "gender                               female\n",
       "age                                      14\n",
       "exercise                                  0\n",
       "hours                                     0\n",
       "grade                                  32.0\n",
       "address   1 Chapel Ave., Cheshire, CT 06410"
      ]
     },
     "execution_count": 9,
     "metadata": {},
     "output_type": "execute_result"
    }
   ],
   "source": [
    "minimum_values = pd.DataFrame(columns=['Minimum Values'])\n",
    "for v in list(df.columns.values):\n",
    "    minimum_values.loc[v] = [df[v].min()]\n",
    "minimum_values"
   ]
  },
  {
   "cell_type": "markdown",
   "metadata": {},
   "source": [
    "Encontrando el valor máximo de cada columna:"
   ]
  },
  {
   "cell_type": "code",
   "execution_count": 10,
   "metadata": {},
   "outputs": [
    {
     "data": {
      "text/html": [
       "<div>\n",
       "<style scoped>\n",
       "    .dataframe tbody tr th:only-of-type {\n",
       "        vertical-align: middle;\n",
       "    }\n",
       "\n",
       "    .dataframe tbody tr th {\n",
       "        vertical-align: top;\n",
       "    }\n",
       "\n",
       "    .dataframe thead th {\n",
       "        text-align: right;\n",
       "    }\n",
       "</style>\n",
       "<table border=\"1\" class=\"dataframe\">\n",
       "  <thead>\n",
       "    <tr style=\"text-align: right;\">\n",
       "      <th></th>\n",
       "      <th>Maximum Values</th>\n",
       "    </tr>\n",
       "  </thead>\n",
       "  <tbody>\n",
       "    <tr>\n",
       "      <th>fname</th>\n",
       "      <td>Zorita</td>\n",
       "    </tr>\n",
       "    <tr>\n",
       "      <th>lname</th>\n",
       "      <td>Zimmerman</td>\n",
       "    </tr>\n",
       "    <tr>\n",
       "      <th>gender</th>\n",
       "      <td>male</td>\n",
       "    </tr>\n",
       "    <tr>\n",
       "      <th>age</th>\n",
       "      <td>19</td>\n",
       "    </tr>\n",
       "    <tr>\n",
       "      <th>exercise</th>\n",
       "      <td>5</td>\n",
       "    </tr>\n",
       "    <tr>\n",
       "      <th>hours</th>\n",
       "      <td>20</td>\n",
       "    </tr>\n",
       "    <tr>\n",
       "      <th>grade</th>\n",
       "      <td>100.0</td>\n",
       "    </tr>\n",
       "    <tr>\n",
       "      <th>address</th>\n",
       "      <td>9999 Longbranch St., Wayne, NJ 07470</td>\n",
       "    </tr>\n",
       "  </tbody>\n",
       "</table>\n",
       "</div>"
      ],
      "text/plain": [
       "                                Maximum Values\n",
       "fname                                   Zorita\n",
       "lname                                Zimmerman\n",
       "gender                                    male\n",
       "age                                         19\n",
       "exercise                                     5\n",
       "hours                                       20\n",
       "grade                                    100.0\n",
       "address   9999 Longbranch St., Wayne, NJ 07470"
      ]
     },
     "execution_count": 10,
     "metadata": {},
     "output_type": "execute_result"
    }
   ],
   "source": [
    "maximum_values = pd.DataFrame(columns=['Maximum Values'])\n",
    "for v in list(df.columns.values):\n",
    "    maximum_values.loc[v] = [df[v].max()]\n",
    "maximum_values"
   ]
  },
  {
   "cell_type": "markdown",
   "metadata": {},
   "source": [
    "Uniendo todas las lista calculadas en 1 sólo reporte:"
   ]
  },
  {
   "cell_type": "code",
   "execution_count": 11,
   "metadata": {},
   "outputs": [
    {
     "data": {
      "text/html": [
       "<div>\n",
       "<style scoped>\n",
       "    .dataframe tbody tr th:only-of-type {\n",
       "        vertical-align: middle;\n",
       "    }\n",
       "\n",
       "    .dataframe tbody tr th {\n",
       "        vertical-align: top;\n",
       "    }\n",
       "\n",
       "    .dataframe thead th {\n",
       "        text-align: right;\n",
       "    }\n",
       "</style>\n",
       "<table border=\"1\" class=\"dataframe\">\n",
       "  <thead>\n",
       "    <tr style=\"text-align: right;\">\n",
       "      <th></th>\n",
       "      <th>Present Values</th>\n",
       "      <th>Missing Values</th>\n",
       "      <th>Unique Values</th>\n",
       "      <th>Minimum Values</th>\n",
       "      <th>Maximum Values</th>\n",
       "    </tr>\n",
       "  </thead>\n",
       "  <tbody>\n",
       "    <tr>\n",
       "      <th>fname</th>\n",
       "      <td>2000</td>\n",
       "      <td>0</td>\n",
       "      <td>958</td>\n",
       "      <td>Aaron</td>\n",
       "      <td>Zorita</td>\n",
       "    </tr>\n",
       "    <tr>\n",
       "      <th>lname</th>\n",
       "      <td>2000</td>\n",
       "      <td>0</td>\n",
       "      <td>877</td>\n",
       "      <td>Acevedo</td>\n",
       "      <td>Zimmerman</td>\n",
       "    </tr>\n",
       "    <tr>\n",
       "      <th>gender</th>\n",
       "      <td>2000</td>\n",
       "      <td>0</td>\n",
       "      <td>2</td>\n",
       "      <td>female</td>\n",
       "      <td>male</td>\n",
       "    </tr>\n",
       "    <tr>\n",
       "      <th>age</th>\n",
       "      <td>2000</td>\n",
       "      <td>0</td>\n",
       "      <td>6</td>\n",
       "      <td>14</td>\n",
       "      <td>19</td>\n",
       "    </tr>\n",
       "    <tr>\n",
       "      <th>exercise</th>\n",
       "      <td>2000</td>\n",
       "      <td>0</td>\n",
       "      <td>6</td>\n",
       "      <td>0</td>\n",
       "      <td>5</td>\n",
       "    </tr>\n",
       "    <tr>\n",
       "      <th>hours</th>\n",
       "      <td>2000</td>\n",
       "      <td>0</td>\n",
       "      <td>21</td>\n",
       "      <td>0</td>\n",
       "      <td>20</td>\n",
       "    </tr>\n",
       "    <tr>\n",
       "      <th>grade</th>\n",
       "      <td>2000</td>\n",
       "      <td>0</td>\n",
       "      <td>385</td>\n",
       "      <td>32.0</td>\n",
       "      <td>100.0</td>\n",
       "    </tr>\n",
       "    <tr>\n",
       "      <th>address</th>\n",
       "      <td>2000</td>\n",
       "      <td>0</td>\n",
       "      <td>2000</td>\n",
       "      <td>1 Chapel Ave., Cheshire, CT 06410</td>\n",
       "      <td>9999 Longbranch St., Wayne, NJ 07470</td>\n",
       "    </tr>\n",
       "  </tbody>\n",
       "</table>\n",
       "</div>"
      ],
      "text/plain": [
       "          Present Values  Missing Values  Unique Values  \\\n",
       "fname               2000               0            958   \n",
       "lname               2000               0            877   \n",
       "gender              2000               0              2   \n",
       "age                 2000               0              6   \n",
       "exercise            2000               0              6   \n",
       "hours               2000               0             21   \n",
       "grade               2000               0            385   \n",
       "address             2000               0           2000   \n",
       "\n",
       "                             Minimum Values  \\\n",
       "fname                                 Aaron   \n",
       "lname                               Acevedo   \n",
       "gender                               female   \n",
       "age                                      14   \n",
       "exercise                                  0   \n",
       "hours                                     0   \n",
       "grade                                  32.0   \n",
       "address   1 Chapel Ave., Cheshire, CT 06410   \n",
       "\n",
       "                                Maximum Values  \n",
       "fname                                   Zorita  \n",
       "lname                                Zimmerman  \n",
       "gender                                    male  \n",
       "age                                         19  \n",
       "exercise                                     5  \n",
       "hours                                       20  \n",
       "grade                                    100.0  \n",
       "address   9999 Longbranch St., Wayne, NJ 07470  "
      ]
     },
     "execution_count": 11,
     "metadata": {},
     "output_type": "execute_result"
    }
   ],
   "source": [
    "pd.concat([present_data_counts, missing_data_counts, unique_value_counts,minimum_values, maximum_values], axis=1)"
   ]
  },
  {
   "cell_type": "markdown",
   "metadata": {},
   "source": [
    "## Ej-1 Reporte de calidad de datos\n",
    "\n",
    "¿Podrías crear un Reporte de calidad de los datos para datasets/tamiami.csv?"
   ]
  },
  {
   "cell_type": "code",
   "execution_count": 12,
   "metadata": {},
   "outputs": [],
   "source": [
    "#Ej-1 ...."
   ]
  },
  {
   "cell_type": "markdown",
   "metadata": {},
   "source": [
    "## Graficando un Dataset: Gráfico de líneas\n",
    "\n",
    "Es posible crear gráficos de líneas para un dataset de la siguiente manera:"
   ]
  },
  {
   "cell_type": "code",
   "execution_count": 13,
   "metadata": {},
   "outputs": [
    {
     "data": {
      "text/plain": [
       "<AxesSubplot:>"
      ]
     },
     "execution_count": 13,
     "metadata": {},
     "output_type": "execute_result"
    },
    {
     "data": {
      "image/png": "[encoded data removed]",
      "text/plain": [
       "<Figure size 432x288 with 1 Axes>"
      ]
     },
     "metadata": {
      "needs_background": "light"
     },
     "output_type": "display_data"
    }
   ],
   "source": [
    "import pandas as pd\n",
    "names = ['Bob','Jessica','Mary','John','Mel']\n",
    "grades = [76,83,77,78,95]\n",
    "GradeList = zip(names,grades)\n",
    "df = pd.DataFrame(data = GradeList, columns=['Names', 'Grades'])\n",
    "\n",
    "df.plot()"
   ]
  },
  {
   "cell_type": "code",
   "execution_count": 14,
   "metadata": {},
   "outputs": [
    {
     "data": {
      "text/plain": [
       "Text(8, 0, 'my annotation')"
      ]
     },
     "execution_count": 14,
     "metadata": {},
     "output_type": "execute_result"
    },
    {
     "data": {
      "image/png": "[encoded data removed]",
      "text/plain": [
       "<Figure size 432x288 with 1 Axes>"
      ]
     },
     "metadata": {
      "needs_background": "light"
     },
     "output_type": "display_data"
    }
   ],
   "source": [
    "import matplotlib.pyplot as plt\n",
    "\n",
    "df.plot()\n",
    "\n",
    "displayText = \"my annotation\"\n",
    "xloc = 1\n",
    "yloc = df['Grades'].max()\n",
    "xtext = 8\n",
    "ytext = 0\n",
    "plt.annotate(displayText, xy=(xloc, yloc), xytext=(xtext,ytext), xycoords=('axes fraction', 'data'), textcoords='offset points')"
   ]
  },
  {
   "cell_type": "code",
   "execution_count": 15,
   "metadata": {},
   "outputs": [
    {
     "data": {
      "text/plain": [
       "Text(8, -150, 'my annotation')"
      ]
     },
     "execution_count": 15,
     "metadata": {},
     "output_type": "execute_result"
    },
    {
     "data": {
      "image/png": "[encoded data removed]",
      "text/plain": [
       "<Figure size 432x288 with 1 Axes>"
      ]
     },
     "metadata": {
      "needs_background": "light"
     },
     "output_type": "display_data"
    }
   ],
   "source": [
    "df.plot()\n",
    "displayText = \"my annotation\"\n",
    "xloc = 1\n",
    "yloc = df['Grades'].max()\n",
    "xtext = 8\n",
    "ytext = -150 \n",
    "plt.annotate(displayText, xy=(xloc, yloc), arrowprops=dict(facecolor='black', shrink=0.05), xytext=(xtext,ytext), xycoords=('axes fraction', 'data'), textcoords='offset points')"
   ]
  },
  {
   "cell_type": "markdown",
   "metadata": {},
   "source": [
    "## Ej-2 Anotaciones\n",
    "\n",
    "Agrega una nota \"Wow!\" en la calificación de 76 de Bob."
   ]
  },
  {
   "cell_type": "code",
   "execution_count": null,
   "metadata": {},
   "outputs": [],
   "source": [
    "#Ej-2 ...."
   ]
  },
  {
   "cell_type": "markdown",
   "metadata": {},
   "source": [
    "## Gráficos de Barras en Dataset\n",
    "\n",
    "Para crear un gráfico de barras, haga lo siguiente:"
   ]
  },
  {
   "cell_type": "code",
   "execution_count": 16,
   "metadata": {},
   "outputs": [
    {
     "data": {
      "text/plain": [
       "<AxesSubplot:>"
      ]
     },
     "execution_count": 16,
     "metadata": {},
     "output_type": "execute_result"
    },
    {
     "data": {
      "image/png": "[encoded data removed]",
      "text/plain": [
       "<Figure size 432x288 with 1 Axes>"
      ]
     },
     "metadata": {
      "needs_background": "light"
     },
     "output_type": "display_data"
    }
   ],
   "source": [
    "import matplotlib.pyplot as plt\n",
    "import pandas as pd\n",
    "\n",
    "names = ['Bob','Jessica','Mary','John','Mel']\n",
    "status = ['Senior','Freshman','Sophomore','Senior', 'Junior']\n",
    "grades = [76,95,77,78,99]\n",
    "\n",
    "GradeList = zip(names,grades)\n",
    "\n",
    "df = pd.DataFrame(data = GradeList, columns=['Names', 'Grades'])\n",
    "\n",
    "df.plot(kind='bar')"
   ]
  },
  {
   "cell_type": "code",
   "execution_count": 20,
   "metadata": {},
   "outputs": [
    {
     "data": {
      "text/plain": [
       "<AxesSubplot:xlabel='Names'>"
      ]
     },
     "execution_count": 20,
     "metadata": {},
     "output_type": "execute_result"
    },
    {
     "data": {
      "image/png": "[encoded data removed]",
      "text/plain": [
       "<Figure size 432x288 with 1 Axes>"
      ]
     },
     "metadata": {
      "needs_background": "light"
     },
     "output_type": "display_data"
    }
   ],
   "source": [
    "df2 = df.set_index(df['Names'])\n",
    "\n",
    "df2.plot(kind=\"bar\")"
   ]
  },
  {
   "cell_type": "markdown",
   "metadata": {},
   "source": [
    "# Ej-3 Gráfico de barras\n",
    "\n",
    "Crear un gráfico donde las etiquetas sean de \"status\"."
   ]
  },
  {
   "cell_type": "code",
   "execution_count": null,
   "metadata": {},
   "outputs": [],
   "source": [
    "# Ej-3 ..."
   ]
  },
  {
   "cell_type": "code",
   "execution_count": 21,
   "metadata": {},
   "outputs": [
    {
     "data": {
      "text/plain": [
       "<AxesSubplot:>"
      ]
     },
     "execution_count": 21,
     "metadata": {},
     "output_type": "execute_result"
    },
    {
     "data": {
      "image/png": "[encoded data removed]",
      "text/plain": [
       "<Figure size 432x288 with 1 Axes>"
      ]
     },
     "metadata": {
      "needs_background": "light"
     },
     "output_type": "display_data"
    }
   ],
   "source": [
    "import matplotlib.pyplot as plt\n",
    "import pandas as pd\n",
    "\n",
    "names = ['Bob','Jessica','Mary','John','Mel']\n",
    "\n",
    "grades = [76,95,77,78,99]\n",
    "gender = ['Male','Female','Female','Male','Female']\n",
    "status = ['Senior','Senior','Junior','Junior','Senior']\n",
    "\n",
    "GradeList = zip(names,grades,gender)\n",
    "\n",
    "df = pd.DataFrame(data = GradeList, columns=['Names', 'Grades',  'Gender'])\n",
    "df.boxplot(column='Grades')"
   ]
  },
  {
   "cell_type": "code",
   "execution_count": 22,
   "metadata": {},
   "outputs": [
    {
     "data": {
      "text/plain": [
       "<AxesSubplot:title={'center':'Grades'}, xlabel='Gender'>"
      ]
     },
     "execution_count": 22,
     "metadata": {},
     "output_type": "execute_result"
    },
    {
     "data": {
      "image/png": "[encoded data removed]",
      "text/plain": [
       "<Figure size 432x288 with 1 Axes>"
      ]
     },
     "metadata": {
      "needs_background": "light"
     },
     "output_type": "display_data"
    }
   ],
   "source": [
    "df.boxplot(by='Gender', column='Grades')"
   ]
  },
  {
   "cell_type": "code",
   "execution_count": 23,
   "metadata": {},
   "outputs": [
    {
     "data": {
      "text/plain": [
       "(0.0, 100.0)"
      ]
     },
     "execution_count": 23,
     "metadata": {},
     "output_type": "execute_result"
    },
    {
     "data": {
      "image/png": "[encoded data removed]",
      "text/plain": [
       "<Figure size 432x288 with 1 Axes>"
      ]
     },
     "metadata": {
      "needs_background": "light"
     },
     "output_type": "display_data"
    }
   ],
   "source": [
    "axis1 = df.boxplot(by='Gender', column='Grades')\n",
    "axis1.set_ylim(0,100)"
   ]
  },
  {
   "cell_type": "markdown",
   "metadata": {},
   "source": [
    "# Ej-4 Graficos de caja\n",
    "\n",
    "Crea un boxplot de calificaciones categorizado por status.\n",
    "\n",
    "Crea un boxplot con un eje de las y que vaya desde 50 a 110."
   ]
  },
  {
   "cell_type": "code",
   "execution_count": null,
   "metadata": {},
   "outputs": [],
   "source": [
    "#Ej-4 ..."
   ]
  }
 ],
 "metadata": {
  "interpreter": {
   "hash": "8b8334dab9339717f727a1deaf837b322d7a41c20d15cc86be99a8e69ceec8ce"
  },
  "kernelspec": {
   "display_name": "Python 3.8.12 64-bit ('3.8.12')",
   "language": "python",
   "name": "python3"
  },
  "language_info": {
   "codemirror_mode": {
    "name": "ipython",
    "version": 3
   },
   "file_extension": ".py",
   "mimetype": "text/x-python",
   "name": "python",
   "nbconvert_exporter": "python",
   "pygments_lexer": "ipython3",
   "version": "3.8.12"
  },
  "orig_nbformat": 4
 },
 "nbformat": 4,
 "nbformat_minor": 2
}
